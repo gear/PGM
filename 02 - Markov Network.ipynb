{
 "cells": [
  {
   "cell_type": "markdown",
   "metadata": {},
   "source": [
    "# Markov Network fundamentals"
   ]
  },
  {
   "cell_type": "markdown",
   "metadata": {},
   "source": [
    "## Markov Network Introduction\n",
    "In the previous note, the Bayesian Network is introduced. However, in practice, there are many cases of CPD that Bayesian Network cannot describle (e.g. The misconception example in Learning Bayesian Network, the dinner problem in this book). In all of these cases, the interaction between variables are bi-directional. Therefore, an __undirected__ network is a better description for these interaction. A Markov Network is an __undirected__ network encoding the bi-directional probabilistic relationship between variables. Instead of using CPD, in Markov Network they use a more symmetric representation called _factor_ $\\phi$, which basically represent __how likely it is for some states of a variable to _agree_ with the states of other variables__."
   ]
  },
  {
   "cell_type": "markdown",
   "metadata": {},
   "source": [
    "## Parameterizing a Markov network - factor\n",
    "Definition: A factor $\\phi$ of a set of random variables X is defined as a function mapping values of X to some real number R:\n",
    "$$ \\phi(X):Val(X) \\rightarrow R $$\n",
    "Unlike CPD, there is no restriction to the value of $\\phi$ (maybe except possitivity). In this setting, the higher the value of $\\phi(a^0,b^0)$ compare to $\\phi(a^1, b^0)$ means that $a^0$ and $b^0$ are more likely to happend (more compatible) compare to the other combination.\n",
    "\n",
    "In ```pgmpy```, we can define factors as follow:"
   ]
  },
  {
   "cell_type": "code",
   "execution_count": 1,
   "metadata": {
    "collapsed": true
   },
   "outputs": [],
   "source": [
    "# Import the module\n",
    "from pgmpy.factors import Factor"
   ]
  },
  {
   "cell_type": "code",
   "execution_count": 4,
   "metadata": {
    "collapsed": true
   },
   "outputs": [],
   "source": [
    "# Each factor is represented by its scope (scope is set of random variable)\n",
    "phi = Factor(['A', 'B'], [2,2], [1000, 1, 5, 100])"
   ]
  },
  {
   "cell_type": "code",
   "execution_count": 5,
   "metadata": {
    "collapsed": false
   },
   "outputs": [
    {
     "name": "stdout",
     "output_type": "stream",
     "text": [
      "+-----+-----+------------+\n",
      "| A   | B   |   phi(A,B) |\n",
      "|-----+-----+------------|\n",
      "| A_0 | B_0 |  1000.0000 |\n",
      "| A_0 | B_1 |     1.0000 |\n",
      "| A_1 | B_0 |     5.0000 |\n",
      "| A_1 | B_1 |   100.0000 |\n",
      "+-----+-----+------------+\n"
     ]
    }
   ],
   "source": [
    "print(phi)"
   ]
  },
  {
   "cell_type": "markdown",
   "metadata": {},
   "source": [
    "## Factor operations\n",
    "There are many mathematical operations on factors. This is few major ones: marginalization, reduction, product (* important *)"
   ]
  },
  {
   "cell_type": "code",
   "execution_count": 10,
   "metadata": {
    "collapsed": false
   },
   "outputs": [],
   "source": [
    "# Marginalize B: Sum up all factors, reduce the scope X to X' = X - B \n",
    "phi_marginalized = phi.marginalize(['B'], inplace=False)"
   ]
  },
  {
   "cell_type": "code",
   "execution_count": 11,
   "metadata": {
    "collapsed": false
   },
   "outputs": [
    {
     "data": {
      "text/plain": [
       "['A']"
      ]
     },
     "execution_count": 11,
     "metadata": {},
     "output_type": "execute_result"
    }
   ],
   "source": [
    "phi_marginalized.scope()"
   ]
  },
  {
   "cell_type": "code",
   "execution_count": 12,
   "metadata": {
    "collapsed": false
   },
   "outputs": [
    {
     "name": "stdout",
     "output_type": "stream",
     "text": [
      "+-----+-----------+\n",
      "| A   |    phi(A) |\n",
      "|-----+-----------|\n",
      "| A_0 | 1001.0000 |\n",
      "| A_1 |  105.0000 |\n",
      "+-----+-----------+\n"
     ]
    }
   ],
   "source": [
    "print(phi_marginalized)"
   ]
  },
  {
   "cell_type": "code",
   "execution_count": 13,
   "metadata": {
    "collapsed": true
   },
   "outputs": [],
   "source": [
    "# The argument 'inplace' is to indicate if user wants a new Factor returned \n",
    "# or modify the original factor\n",
    "phi.marginalize(['A'])"
   ]
  },
  {
   "cell_type": "code",
   "execution_count": 14,
   "metadata": {
    "collapsed": false
   },
   "outputs": [
    {
     "name": "stdout",
     "output_type": "stream",
     "text": [
      "+-----+-----------+\n",
      "| B   |    phi(B) |\n",
      "|-----+-----------|\n",
      "| B_0 | 1005.0000 |\n",
      "| B_1 |  101.0000 |\n",
      "+-----+-----------+\n"
     ]
    }
   ],
   "source": [
    "print(phi)"
   ]
  },
  {
   "cell_type": "code",
   "execution_count": 20,
   "metadata": {
    "collapsed": false
   },
   "outputs": [],
   "source": [
    "# Reduction (to a context Z) is to remove all entries of scope X that have Z. \n",
    "# This operation reduce the scope to X - Z, and \\phi no longer depends on Z.\n",
    "phi = Factor(['A', 'B'], [2,2], [1000, 1, 5, 100])\n",
    "phi_reduced = phi.reduce([('B', 0)], inplace=False)"
   ]
  },
  {
   "cell_type": "code",
   "execution_count": 21,
   "metadata": {
    "collapsed": false
   },
   "outputs": [
    {
     "name": "stdout",
     "output_type": "stream",
     "text": [
      "+-----+-----------+\n",
      "| A   |    phi(A) |\n",
      "|-----+-----------|\n",
      "| A_0 | 1000.0000 |\n",
      "| A_1 |    5.0000 |\n",
      "+-----+-----------+\n"
     ]
    }
   ],
   "source": [
    "print(phi_reduced)"
   ]
  },
  {
   "cell_type": "code",
   "execution_count": 22,
   "metadata": {
    "collapsed": false
   },
   "outputs": [
    {
     "data": {
      "text/plain": [
       "['A']"
      ]
     },
     "execution_count": 22,
     "metadata": {},
     "output_type": "execute_result"
    }
   ],
   "source": [
    "phi_reduced.scope()"
   ]
  },
  {
   "cell_type": "code",
   "execution_count": 23,
   "metadata": {
    "collapsed": true
   },
   "outputs": [],
   "source": [
    "phi_reduced_a1 = phi.reduce([('A', 1)], inplace=False)"
   ]
  },
  {
   "cell_type": "code",
   "execution_count": 24,
   "metadata": {
    "collapsed": false
   },
   "outputs": [
    {
     "name": "stdout",
     "output_type": "stream",
     "text": [
      "+-----+----------+\n",
      "| B   |   phi(B) |\n",
      "|-----+----------|\n",
      "| B_0 |   5.0000 |\n",
      "| B_1 | 100.0000 |\n",
      "+-----+----------+\n"
     ]
    }
   ],
   "source": [
    "print(phi_reduced_a1)"
   ]
  },
  {
   "cell_type": "code",
   "execution_count": 25,
   "metadata": {
    "collapsed": false
   },
   "outputs": [
    {
     "name": "stdout",
     "output_type": "stream",
     "text": [
      "+-----+-----+------------+\n",
      "| A   | B   |   phi(A,B) |\n",
      "|-----+-----+------------|\n",
      "| A_0 | B_0 |  1000.0000 |\n",
      "| A_0 | B_1 |     1.0000 |\n",
      "| A_1 | B_0 |     5.0000 |\n",
      "| A_1 | B_1 |   100.0000 |\n",
      "+-----+-----+------------+\n"
     ]
    }
   ],
   "source": [
    "print(phi)"
   ]
  },
  {
   "cell_type": "code",
   "execution_count": 34,
   "metadata": {
    "collapsed": true
   },
   "outputs": [],
   "source": [
    "# The most important operation is the product operation\n",
    "phi1 = Factor(['a', 'b'], [2, 2], [1000, 1, 5, 100])\n",
    "phi2 = Factor(['b', 'c'], [2, 3], [1, 100, 5, 200, 3, 1000])\n",
    "phi3 = Factor(['c', 'd'], [3, 2], [2000, 3, 400, 200, 4, 1])\n",
    "# With this expression, the last list the values list of the [3, 2] array. To remember\n",
    "# this, image d is unit and has only 2 values and c is tens and has 3 values. Therefore\n",
    "# the value listing will be: 00, 01, 10, 11, 20, 21 -> corresponds with the list."
   ]
  },
  {
   "cell_type": "code",
   "execution_count": 35,
   "metadata": {
    "collapsed": true
   },
   "outputs": [],
   "source": [
    "# We can use the operator * for product\n",
    "phi = phi1 * phi2"
   ]
  },
  {
   "cell_type": "code",
   "execution_count": 36,
   "metadata": {
    "collapsed": false
   },
   "outputs": [
    {
     "data": {
      "text/plain": [
       "['a', 'b', 'c']"
      ]
     },
     "execution_count": 36,
     "metadata": {},
     "output_type": "execute_result"
    }
   ],
   "source": [
    "phi.scope()"
   ]
  },
  {
   "cell_type": "code",
   "execution_count": 37,
   "metadata": {
    "collapsed": false
   },
   "outputs": [
    {
     "name": "stdout",
     "output_type": "stream",
     "text": [
      "+-----+-----+-----+--------------+\n",
      "| a   | b   | c   |   phi(a,b,c) |\n",
      "|-----+-----+-----+--------------|\n",
      "| a_0 | b_0 | c_0 |    1000.0000 |\n",
      "| a_0 | b_0 | c_1 |  100000.0000 |\n",
      "| a_0 | b_0 | c_2 |    5000.0000 |\n",
      "| a_0 | b_1 | c_0 |     200.0000 |\n",
      "| a_0 | b_1 | c_1 |       3.0000 |\n",
      "| a_0 | b_1 | c_2 |    1000.0000 |\n",
      "| a_1 | b_0 | c_0 |       5.0000 |\n",
      "| a_1 | b_0 | c_1 |     500.0000 |\n",
      "| a_1 | b_0 | c_2 |      25.0000 |\n",
      "| a_1 | b_1 | c_0 |   20000.0000 |\n",
      "| a_1 | b_1 | c_1 |     300.0000 |\n",
      "| a_1 | b_1 | c_2 |  100000.0000 |\n",
      "+-----+-----+-----+--------------+\n"
     ]
    }
   ],
   "source": [
    "print(phi)"
   ]
  },
  {
   "cell_type": "code",
   "execution_count": 38,
   "metadata": {
    "collapsed": false
   },
   "outputs": [],
   "source": [
    "# The dimensionality between same variable ['b', 'c'] and ['c', 'd'] -> 'c' of both must\n",
    "# have same cardinality\n",
    "phi = phi2 * phi3"
   ]
  },
  {
   "cell_type": "code",
   "execution_count": 39,
   "metadata": {
    "collapsed": false
   },
   "outputs": [
    {
     "name": "stdout",
     "output_type": "stream",
     "text": [
      "+-----+-----+-----+--------------+\n",
      "| b   | c   | d   |   phi(b,c,d) |\n",
      "|-----+-----+-----+--------------|\n",
      "| b_0 | c_0 | d_0 |    2000.0000 |\n",
      "| b_0 | c_0 | d_1 |       3.0000 |\n",
      "| b_0 | c_1 | d_0 |   40000.0000 |\n",
      "| b_0 | c_1 | d_1 |   20000.0000 |\n",
      "| b_0 | c_2 | d_0 |      20.0000 |\n",
      "| b_0 | c_2 | d_1 |       5.0000 |\n",
      "| b_1 | c_0 | d_0 |  400000.0000 |\n",
      "| b_1 | c_0 | d_1 |     600.0000 |\n",
      "| b_1 | c_1 | d_0 |    1200.0000 |\n",
      "| b_1 | c_1 | d_1 |     600.0000 |\n",
      "| b_1 | c_2 | d_0 |    4000.0000 |\n",
      "| b_1 | c_2 | d_1 |    1000.0000 |\n",
      "+-----+-----+-----+--------------+\n"
     ]
    }
   ],
   "source": [
    "print(phi)"
   ]
  },
  {
   "cell_type": "code",
   "execution_count": 42,
   "metadata": {
    "collapsed": true
   },
   "outputs": [],
   "source": [
    "# PGMPY will automatically concatinate matching variable names. If there is no matching \n",
    "# variable names, PGMPY will create full table.\n",
    "phi = phi1 * phi3 # also phi_new = phi.product(phi1, phi2)"
   ]
  },
  {
   "cell_type": "code",
   "execution_count": 43,
   "metadata": {
    "collapsed": false
   },
   "outputs": [
    {
     "name": "stdout",
     "output_type": "stream",
     "text": [
      "+-----+-----+-----+-----+----------------+\n",
      "| a   | b   | c   | d   |   phi(a,b,c,d) |\n",
      "|-----+-----+-----+-----+----------------|\n",
      "| a_0 | b_0 | c_0 | d_0 |   2000000.0000 |\n",
      "| a_0 | b_0 | c_0 | d_1 |      3000.0000 |\n",
      "| a_0 | b_0 | c_1 | d_0 |    400000.0000 |\n",
      "| a_0 | b_0 | c_1 | d_1 |    200000.0000 |\n",
      "| a_0 | b_0 | c_2 | d_0 |      4000.0000 |\n",
      "| a_0 | b_0 | c_2 | d_1 |      1000.0000 |\n",
      "| a_0 | b_1 | c_0 | d_0 |      2000.0000 |\n",
      "| a_0 | b_1 | c_0 | d_1 |         3.0000 |\n",
      "| a_0 | b_1 | c_1 | d_0 |       400.0000 |\n",
      "| a_0 | b_1 | c_1 | d_1 |       200.0000 |\n",
      "| a_0 | b_1 | c_2 | d_0 |         4.0000 |\n",
      "| a_0 | b_1 | c_2 | d_1 |         1.0000 |\n",
      "| a_1 | b_0 | c_0 | d_0 |     10000.0000 |\n",
      "| a_1 | b_0 | c_0 | d_1 |        15.0000 |\n",
      "| a_1 | b_0 | c_1 | d_0 |      2000.0000 |\n",
      "| a_1 | b_0 | c_1 | d_1 |      1000.0000 |\n",
      "| a_1 | b_0 | c_2 | d_0 |        20.0000 |\n",
      "| a_1 | b_0 | c_2 | d_1 |         5.0000 |\n",
      "| a_1 | b_1 | c_0 | d_0 |    200000.0000 |\n",
      "| a_1 | b_1 | c_0 | d_1 |       300.0000 |\n",
      "| a_1 | b_1 | c_1 | d_0 |     40000.0000 |\n",
      "| a_1 | b_1 | c_1 | d_1 |     20000.0000 |\n",
      "| a_1 | b_1 | c_2 | d_0 |       400.0000 |\n",
      "| a_1 | b_1 | c_2 | d_1 |       100.0000 |\n",
      "+-----+-----+-----+-----+----------------+\n"
     ]
    }
   ],
   "source": [
    "print(phi)"
   ]
  },
  {
   "cell_type": "markdown",
   "metadata": {},
   "source": [
    "## Gibbs distributions and Markov Networks"
   ]
  },
  {
   "cell_type": "code",
   "execution_count": null,
   "metadata": {
    "collapsed": true
   },
   "outputs": [],
   "source": []
  }
 ],
 "metadata": {
  "kernelspec": {
   "display_name": "Python 2",
   "language": "python",
   "name": "python2"
  },
  "language_info": {
   "codemirror_mode": {
    "name": "ipython",
    "version": 2
   },
   "file_extension": ".py",
   "mimetype": "text/x-python",
   "name": "python",
   "nbconvert_exporter": "python",
   "pygments_lexer": "ipython2",
   "version": "2.7.10"
  }
 },
 "nbformat": 4,
 "nbformat_minor": 0
}
