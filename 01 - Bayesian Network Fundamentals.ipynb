{
 "cells": [
  {
   "cell_type": "markdown",
   "metadata": {},
   "source": [
    "# Chapter 1: Bayesian Network Fundamentals\n",
    "## Representing independencies"
   ]
  },
  {
   "cell_type": "code",
   "execution_count": 1,
   "metadata": {
    "collapsed": true
   },
   "outputs": [],
   "source": [
    "import pgmpy as pgm"
   ]
  },
  {
   "cell_type": "code",
   "execution_count": 3,
   "metadata": {
    "collapsed": false
   },
   "outputs": [],
   "source": [
    "from pgmpy.independencies import IndependenceAssertion"
   ]
  },
  {
   "cell_type": "code",
   "execution_count": 6,
   "metadata": {
    "collapsed": true
   },
   "outputs": [],
   "source": [
    "# X and Y are independent\n",
    "assertion1 = IndependenceAssertion('X', 'Y')"
   ]
  },
  {
   "cell_type": "code",
   "execution_count": 7,
   "metadata": {
    "collapsed": false
   },
   "outputs": [
    {
     "data": {
      "text/plain": [
       "(X _|_ Y)"
      ]
     },
     "execution_count": 7,
     "metadata": {},
     "output_type": "execute_result"
    }
   ],
   "source": [
    "assertion1"
   ]
  },
  {
   "cell_type": "code",
   "execution_count": 9,
   "metadata": {
    "collapsed": true
   },
   "outputs": [],
   "source": [
    "# Conditional assertion (conditional independence)\n",
    "assertion2 = IndependenceAssertion('X', 'Y', 'Z')"
   ]
  },
  {
   "cell_type": "code",
   "execution_count": 10,
   "metadata": {
    "collapsed": false
   },
   "outputs": [
    {
     "data": {
      "text/plain": [
       "(X _|_ Y | Z)"
      ]
     },
     "execution_count": 10,
     "metadata": {},
     "output_type": "execute_result"
    }
   ],
   "source": [
    "assertion2"
   ]
  },
  {
   "cell_type": "markdown",
   "metadata": {},
   "source": [
    "With list [...] representation, we can expression other assertions in the form of $(X\\bot Y, Z\\ |\\ A, B)$"
   ]
  },
  {
   "cell_type": "code",
   "execution_count": 11,
   "metadata": {
    "collapsed": true
   },
   "outputs": [],
   "source": [
    "# More assertion\n",
    "assertion3 = IndependenceAssertion('X', ['Y', 'Z'], ['A', 'B'])"
   ]
  },
  {
   "cell_type": "code",
   "execution_count": 12,
   "metadata": {
    "collapsed": false
   },
   "outputs": [
    {
     "data": {
      "text/plain": [
       "(X _|_ Y, Z | A, B)"
      ]
     },
     "execution_count": 12,
     "metadata": {},
     "output_type": "execute_result"
    }
   ],
   "source": [
    "assertion3"
   ]
  },
  {
   "cell_type": "markdown",
   "metadata": {},
   "source": [
    "### ```Independencies``` class"
   ]
  },
  {
   "cell_type": "markdown",
   "metadata": {},
   "source": [
    "An ```Independencies``` object is used to represent a __set__ of assertions in Bayesian or Markove networks."
   ]
  },
  {
   "cell_type": "code",
   "execution_count": 13,
   "metadata": {
    "collapsed": true
   },
   "outputs": [],
   "source": [
    "from pgmpy.independencies import Independencies"
   ]
  },
  {
   "cell_type": "code",
   "execution_count": 14,
   "metadata": {
    "collapsed": false
   },
   "outputs": [
    {
     "data": {
      "text/plain": [
       "[]"
      ]
     },
     "execution_count": 14,
     "metadata": {},
     "output_type": "execute_result"
    }
   ],
   "source": [
    "# Create an empty object then add IndependenceAssertion to it\n",
    "independencies = Independencies()\n",
    "independencies.get_assertions()"
   ]
  },
  {
   "cell_type": "code",
   "execution_count": 19,
   "metadata": {
    "collapsed": true
   },
   "outputs": [],
   "source": [
    "# Add assertions to the empty object. Same object can be added multiple time (NOT hashed)\n",
    "independencies.add_assertions(assertion1, assertion2)"
   ]
  },
  {
   "cell_type": "code",
   "execution_count": 20,
   "metadata": {
    "collapsed": false
   },
   "outputs": [
    {
     "data": {
      "text/plain": [
       "[(X _|_ Y), (X _|_ Y | Z), (X _|_ Y), (X _|_ Y | Z), (X _|_ Y), (X _|_ Y | Z)]"
      ]
     },
     "execution_count": 20,
     "metadata": {},
     "output_type": "execute_result"
    }
   ],
   "source": [
    "independencies.get_assertions()"
   ]
  },
  {
   "cell_type": "code",
   "execution_count": 22,
   "metadata": {
    "collapsed": true
   },
   "outputs": [],
   "source": [
    "independencies = Independencies(assertion1, assertion2, assertion3)"
   ]
  },
  {
   "cell_type": "code",
   "execution_count": 23,
   "metadata": {
    "collapsed": false
   },
   "outputs": [
    {
     "data": {
      "text/plain": [
       "[(X _|_ Y), (X _|_ Y | Z), (X _|_ Y, Z | A, B)]"
      ]
     },
     "execution_count": 23,
     "metadata": {},
     "output_type": "execute_result"
    }
   ],
   "source": [
    "independencies.get_assertions()"
   ]
  },
  {
   "cell_type": "markdown",
   "metadata": {},
   "source": [
    "### Representing joint probability distributions"
   ]
  },
  {
   "cell_type": "code",
   "execution_count": 24,
   "metadata": {
    "collapsed": true
   },
   "outputs": [],
   "source": [
    "from pgmpy.factors import JointProbabilityDistribution as Joint"
   ]
  },
  {
   "cell_type": "code",
   "execution_count": 25,
   "metadata": {
    "collapsed": true
   },
   "outputs": [],
   "source": [
    "distribution = Joint(['coin1', 'coin2'], [2, 2], [0.25, 0.25, 0.25, 0.25])"
   ]
  },
  {
   "cell_type": "code",
   "execution_count": 26,
   "metadata": {
    "collapsed": false
   },
   "outputs": [
    {
     "name": "stdout",
     "output_type": "stream",
     "text": [
      "coin1    coin2      P(coin1,coin2)\n",
      "-------  -------  ----------------\n",
      "coin1_0  coin2_0            0.2500\n",
      "coin1_0  coin2_1            0.2500\n",
      "coin1_1  coin2_0            0.2500\n",
      "coin1_1  coin2_1            0.2500\n"
     ]
    }
   ],
   "source": [
    "print(distribution)"
   ]
  },
  {
   "cell_type": "code",
   "execution_count": 30,
   "metadata": {
    "collapsed": false
   },
   "outputs": [
    {
     "data": {
      "text/plain": [
       "True"
      ]
     },
     "execution_count": 30,
     "metadata": {},
     "output_type": "execute_result"
    }
   ],
   "source": [
    "# Coin1 and coin2 have indepencecy\n",
    "distribution.check_independence(['coin1'], ['coin2'])"
   ]
  },
  {
   "cell_type": "markdown",
   "metadata": {},
   "source": [
    "## Conditional probability distribution (CPD)"
   ]
  },
  {
   "cell_type": "code",
   "execution_count": 31,
   "metadata": {
    "collapsed": true
   },
   "outputs": [],
   "source": [
    "from pgmpy.factors import TabularCPD"
   ]
  },
  {
   "cell_type": "code",
   "execution_count": 32,
   "metadata": {
    "collapsed": true
   },
   "outputs": [],
   "source": [
    "quality = TabularCPD(variable='Quality', variable_card=3, values=[[0.3], [0.5], [0.2]])"
   ]
  },
  {
   "cell_type": "code",
   "execution_count": 33,
   "metadata": {
    "collapsed": false
   },
   "outputs": [
    {
     "name": "stdout",
     "output_type": "stream",
     "text": [
      "+-----------+-----+\n",
      "| Quality_0 | 0.3 |\n",
      "+-----------+-----+\n",
      "| Quality_1 | 0.5 |\n",
      "+-----------+-----+\n",
      "| Quality_2 | 0.2 |\n",
      "+-----------+-----+\n"
     ]
    }
   ],
   "source": [
    "print(quality)"
   ]
  },
  {
   "cell_type": "code",
   "execution_count": 35,
   "metadata": {
    "collapsed": false
   },
   "outputs": [
    {
     "data": {
      "text/plain": [
       "['Quality']"
      ]
     },
     "execution_count": 35,
     "metadata": {},
     "output_type": "execute_result"
    }
   ],
   "source": [
    "quality.variables"
   ]
  },
  {
   "cell_type": "code",
   "execution_count": 36,
   "metadata": {
    "collapsed": false
   },
   "outputs": [
    {
     "data": {
      "text/plain": [
       "array([3])"
      ]
     },
     "execution_count": 36,
     "metadata": {},
     "output_type": "execute_result"
    }
   ],
   "source": [
    "quality.cardinality"
   ]
  },
  {
   "cell_type": "code",
   "execution_count": 37,
   "metadata": {
    "collapsed": false
   },
   "outputs": [
    {
     "data": {
      "text/plain": [
       "array([ 0.3,  0.5,  0.2])"
      ]
     },
     "execution_count": 37,
     "metadata": {},
     "output_type": "execute_result"
    }
   ],
   "source": [
    "quality.values"
   ]
  },
  {
   "cell_type": "code",
   "execution_count": 38,
   "metadata": {
    "collapsed": false
   },
   "outputs": [
    {
     "data": {
      "text/plain": [
       "3"
      ]
     },
     "execution_count": 38,
     "metadata": {},
     "output_type": "execute_result"
    }
   ],
   "source": [
    "quality.variable_card"
   ]
  },
  {
   "cell_type": "code",
   "execution_count": 44,
   "metadata": {
    "collapsed": false
   },
   "outputs": [
    {
     "data": {
      "text/plain": [
       "numpy.ndarray"
      ]
     },
     "execution_count": 44,
     "metadata": {},
     "output_type": "execute_result"
    }
   ],
   "source": [
    "type(quality.values)"
   ]
  },
  {
   "cell_type": "code",
   "execution_count": 45,
   "metadata": {
    "collapsed": true
   },
   "outputs": [],
   "source": [
    "location = TabularCPD(variable='Location', variable_card = 2, values = [[0.6], [0.4]])"
   ]
  },
  {
   "cell_type": "code",
   "execution_count": 46,
   "metadata": {
    "collapsed": false
   },
   "outputs": [
    {
     "name": "stdout",
     "output_type": "stream",
     "text": [
      "+------------+-----+\n",
      "| Location_0 | 0.6 |\n",
      "+------------+-----+\n",
      "| Location_1 | 0.4 |\n",
      "+------------+-----+\n"
     ]
    }
   ],
   "source": [
    "print(location)"
   ]
  },
  {
   "cell_type": "code",
   "execution_count": 47,
   "metadata": {
    "collapsed": true
   },
   "outputs": [],
   "source": [
    "# Define a conditional distribution based on 2 evidences\n",
    "cost = TabularCPD(variable='Cost', variable_card=2,values=[[0.8, 0.6, 0.1, 0.6, 0.6, 0.05]\n",
    "                                                          ,[0.2, 0.4, 0.9, 0.4, 0.4, 0.95]]\n",
    "                  , evidence=['Q', 'L'], evidence_card=[3,2])"
   ]
  },
  {
   "cell_type": "code",
   "execution_count": 48,
   "metadata": {
    "collapsed": false
   },
   "outputs": [
    {
     "name": "stdout",
     "output_type": "stream",
     "text": [
      "+--------+-----+-----+-----+-----+-----+------+\n",
      "| Q      | Q_0 | Q_0 | Q_1 | Q_1 | Q_2 | Q_2  |\n",
      "+--------+-----+-----+-----+-----+-----+------+\n",
      "| L      | L_0 | L_1 | L_0 | L_1 | L_0 | L_1  |\n",
      "+--------+-----+-----+-----+-----+-----+------+\n",
      "| Cost_0 | 0.8 | 0.6 | 0.1 | 0.6 | 0.6 | 0.05 |\n",
      "+--------+-----+-----+-----+-----+-----+------+\n",
      "| Cost_1 | 0.2 | 0.4 | 0.9 | 0.4 | 0.4 | 0.95 |\n",
      "+--------+-----+-----+-----+-----+-----+------+\n"
     ]
    }
   ],
   "source": [
    "print(cost)"
   ]
  },
  {
   "cell_type": "markdown",
   "metadata": {},
   "source": [
    "## Graph theory\n",
    "### \"Late for school\" graph implementation.\n",
    "In this example, the graph (page 17 - book) has 6 nodes. Each node (a random variable) will simply contain discrete 2 possible states {yes, no} "
   ]
  },
  {
   "cell_type": "code",
   "execution_count": 49,
   "metadata": {
    "collapsed": true
   },
   "outputs": [],
   "source": [
    "from pgmpy.models import BayesianModel"
   ]
  },
  {
   "cell_type": "code",
   "execution_count": 50,
   "metadata": {
    "collapsed": true
   },
   "outputs": [],
   "source": [
    "model = BayesianModel()"
   ]
  },
  {
   "cell_type": "code",
   "execution_count": 51,
   "metadata": {
    "collapsed": true
   },
   "outputs": [],
   "source": [
    "# Add 'rain' and 'traffic_jam' nodes to the model\n",
    "model.add_nodes_from(['rain', 'traffic_jam'])"
   ]
  },
  {
   "cell_type": "code",
   "execution_count": 52,
   "metadata": {
    "collapsed": true
   },
   "outputs": [],
   "source": [
    "# Add an edge between these nodes\n",
    "model.add_edge('rain', 'traffic_jam')"
   ]
  },
  {
   "cell_type": "code",
   "execution_count": 53,
   "metadata": {
    "collapsed": true
   },
   "outputs": [],
   "source": [
    "# Pgmpy will automatically add new nodes when we add edge\n",
    "model.add_edge('accident', 'traffic_jam')"
   ]
  },
  {
   "cell_type": "code",
   "execution_count": 54,
   "metadata": {
    "collapsed": false
   },
   "outputs": [
    {
     "data": {
      "text/plain": [
       "['accident', 'traffic_jam', 'rain']"
      ]
     },
     "execution_count": 54,
     "metadata": {},
     "output_type": "execute_result"
    }
   ],
   "source": [
    "model.nodes()"
   ]
  },
  {
   "cell_type": "code",
   "execution_count": 55,
   "metadata": {
    "collapsed": false
   },
   "outputs": [
    {
     "data": {
      "text/plain": [
       "[('accident', 'traffic_jam'), ('rain', 'traffic_jam')]"
      ]
     },
     "execution_count": 55,
     "metadata": {},
     "output_type": "execute_result"
    }
   ],
   "source": [
    "model.edges()"
   ]
  },
  {
   "cell_type": "markdown",
   "metadata": {},
   "source": [
    "In the case of Bayesian network, each of the nodes has an associated CPD with it. The following code defines some tabular CPDs to associate with the model:"
   ]
  },
  {
   "cell_type": "code",
   "execution_count": 58,
   "metadata": {
    "collapsed": false
   },
   "outputs": [],
   "source": [
    "# from pgmpy.factors import TablarCPD\n",
    "cpd_rain = TabularCPD(variable='rain', variable_card=2, values=[[0.4], [0.6]])"
   ]
  },
  {
   "cell_type": "code",
   "execution_count": 59,
   "metadata": {
    "collapsed": true
   },
   "outputs": [],
   "source": [
    "cpd_accident = TabularCPD('accident', 2, [[0.2], [0.8]])"
   ]
  },
  {
   "cell_type": "code",
   "execution_count": 60,
   "metadata": {
    "collapsed": true
   },
   "outputs": [],
   "source": [
    "cpd_traffic_jam = TabularCPD('traffic_jam', 2, \n",
    "                            [[0.9, 0.6, 0.7, 0.1],\n",
    "                            [0.1, 0.4, 0.3, 0.9]],\n",
    "                            evidence=['rain', 'accident'],\n",
    "                            evidence_card=[2,2])"
   ]
  },
  {
   "cell_type": "code",
   "execution_count": 61,
   "metadata": {
    "collapsed": false
   },
   "outputs": [
    {
     "name": "stdout",
     "output_type": "stream",
     "text": [
      "+---------------+------------+------------+------------+------------+\n",
      "| rain          | rain_0     | rain_0     | rain_1     | rain_1     |\n",
      "+---------------+------------+------------+------------+------------+\n",
      "| accident      | accident_0 | accident_1 | accident_0 | accident_1 |\n",
      "+---------------+------------+------------+------------+------------+\n",
      "| traffic_jam_0 | 0.9        | 0.6        | 0.7        | 0.1        |\n",
      "+---------------+------------+------------+------------+------------+\n",
      "| traffic_jam_1 | 0.1        | 0.4        | 0.3        | 0.9        |\n",
      "+---------------+------------+------------+------------+------------+\n"
     ]
    }
   ],
   "source": [
    "print(cpd_traffic_jam)"
   ]
  },
  {
   "cell_type": "markdown",
   "metadata": {},
   "source": [
    "Here, pgmpy will use the name string of each TabularCPD to add them to the corresponding nodes. We just need to add the CPDs to the graph."
   ]
  },
  {
   "cell_type": "code",
   "execution_count": 62,
   "metadata": {
    "collapsed": true
   },
   "outputs": [],
   "source": [
    "model.add_cpds(cpd_rain, cpd_accident, cpd_traffic_jam)"
   ]
  },
  {
   "cell_type": "code",
   "execution_count": 64,
   "metadata": {
    "collapsed": false
   },
   "outputs": [
    {
     "data": {
      "text/plain": [
       "[<TabularCPD representing P(rain:2) at 0x7fc088cf3e90>,\n",
       " <TabularCPD representing P(accident:2) at 0x7fc088cf3a50>,\n",
       " <TabularCPD representing P(traffic_jam:2 | rain:2, accident:2) at 0x7fc088d16110>]"
      ]
     },
     "execution_count": 64,
     "metadata": {},
     "output_type": "execute_result"
    }
   ],
   "source": [
    "model.get_cpds()"
   ]
  },
  {
   "cell_type": "code",
   "execution_count": 65,
   "metadata": {
    "collapsed": false
   },
   "outputs": [
    {
     "name": "stdout",
     "output_type": "stream",
     "text": [
      "+--------+-----+\n",
      "| rain_0 | 0.4 |\n",
      "+--------+-----+\n",
      "| rain_1 | 0.6 |\n",
      "+--------+-----+\n"
     ]
    }
   ],
   "source": [
    "print(model.get_cpds()[0])"
   ]
  },
  {
   "cell_type": "code",
   "execution_count": 66,
   "metadata": {
    "collapsed": true
   },
   "outputs": [],
   "source": [
    "model.add_node('long_queues')"
   ]
  },
  {
   "cell_type": "code",
   "execution_count": 68,
   "metadata": {
    "collapsed": false
   },
   "outputs": [],
   "source": [
    "model.add_edge('traffic_jam', 'long_queues')"
   ]
  },
  {
   "cell_type": "code",
   "execution_count": 69,
   "metadata": {
    "collapsed": true
   },
   "outputs": [],
   "source": [
    "cpd_long_queues = TabularCPD('long_queues', 2, [[0.9, 0.2], [0.1, 0.8]],\n",
    "                            evidence=['traffic_jam'],\n",
    "                            evidence_card=[2])"
   ]
  },
  {
   "cell_type": "code",
   "execution_count": 70,
   "metadata": {
    "collapsed": true
   },
   "outputs": [],
   "source": [
    "model.add_cpds(cpd_long_queues)"
   ]
  },
  {
   "cell_type": "code",
   "execution_count": 71,
   "metadata": {
    "collapsed": true
   },
   "outputs": [],
   "source": [
    "model.add_nodes_from(['getting_up_late', 'late_for_school'])"
   ]
  },
  {
   "cell_type": "code",
   "execution_count": 72,
   "metadata": {
    "collapsed": true
   },
   "outputs": [],
   "source": [
    "model.add_edges_from([('getting_up_late', 'late_for_school'), \n",
    "                      ('traffic_jam', 'late_for_school')])"
   ]
  },
  {
   "cell_type": "code",
   "execution_count": 73,
   "metadata": {
    "collapsed": true
   },
   "outputs": [],
   "source": [
    "cpd_getting_up_late = TabularCPD('getting_up_late', 2, [[0.6], [0.4]])"
   ]
  },
  {
   "cell_type": "code",
   "execution_count": 74,
   "metadata": {
    "collapsed": true
   },
   "outputs": [],
   "source": [
    "cpd_late_for_school = TabularCPD('late_for_school', 2, [[0.9, 0.45, 0.8, 0.1],\n",
    "                                                       [0.1, 0.55, 0.2, 0.9]],\n",
    "                                evidence=['getting_up_late', 'traffic_jam'],\n",
    "                                evidence_card=[2,2])"
   ]
  },
  {
   "cell_type": "code",
   "execution_count": 75,
   "metadata": {
    "collapsed": true
   },
   "outputs": [],
   "source": [
    "model.add_cpds(cpd_getting_up_late, cpd_late_for_school)"
   ]
  },
  {
   "cell_type": "code",
   "execution_count": 76,
   "metadata": {
    "collapsed": false
   },
   "outputs": [
    {
     "data": {
      "text/plain": [
       "[<TabularCPD representing P(rain:2) at 0x7fc088cf3e90>,\n",
       " <TabularCPD representing P(accident:2) at 0x7fc088cf3a50>,\n",
       " <TabularCPD representing P(traffic_jam:2 | rain:2, accident:2) at 0x7fc088d16110>,\n",
       " <TabularCPD representing P(long_queues:2 | traffic_jam:2) at 0x7fc088d16050>,\n",
       " <TabularCPD representing P(getting_up_late:2) at 0x7fc088cf37d0>,\n",
       " <TabularCPD representing P(late_for_school:2 | getting_up_late:2, traffic_jam:2) at 0x7fc088d16390>]"
      ]
     },
     "execution_count": 76,
     "metadata": {},
     "output_type": "execute_result"
    }
   ],
   "source": [
    "model.get_cpds()"
   ]
  },
  {
   "cell_type": "code",
   "execution_count": 77,
   "metadata": {
    "collapsed": false
   },
   "outputs": [
    {
     "data": {
      "text/plain": [
       "True"
      ]
     },
     "execution_count": 77,
     "metadata": {},
     "output_type": "execute_result"
    }
   ],
   "source": [
    "# Check if all associated CPDs are consistent\n",
    "model.check_model()"
   ]
  },
  {
   "cell_type": "markdown",
   "metadata": {},
   "source": [
    "We can also __remove__ the undesired CPD by the syntax:\n",
    "```python\n",
    "model.remove_cpds('late_for_school')\n",
    "```"
   ]
  },
  {
   "cell_type": "markdown",
   "metadata": {},
   "source": [
    "### Reasoning pattern in Bayesian networks\n",
    "The Bayesian Reasoning using the network is somewhat like querying \"what if\". Given information about A (accident), we would like to know $ P(J|A=True) $. \n",
    "### d-Separation, active trail in BN\n",
    "Given information about A, we can see that the information flows to J. It affects the likelihood of J. To find out which node can affect which node, we need to defines the d-Separation and the definition of active trail, and also the algorithm to check if a trail is active or not. If the trail is not active (which means two nodes are independent), then there is no information flow between two nodes."
   ]
  },
  {
   "cell_type": "code",
   "execution_count": 78,
   "metadata": {
    "collapsed": false
   },
   "outputs": [
    {
     "data": {
      "text/plain": [
       "False"
      ]
     },
     "execution_count": 78,
     "metadata": {},
     "output_type": "execute_result"
    }
   ],
   "source": [
    "# To check if the trail is active in pgmpy\n",
    "model.is_active_trail('accident', 'rain')"
   ]
  },
  {
   "cell_type": "code",
   "execution_count": 80,
   "metadata": {
    "collapsed": false
   },
   "outputs": [
    {
     "data": {
      "text/plain": [
       "True"
      ]
     },
     "execution_count": 80,
     "metadata": {},
     "output_type": "execute_result"
    }
   ],
   "source": [
    "# 'accident' and 'rain' becomes dependent since information about 'traffic_jam' is given\n",
    "model.is_active_trail('accident', 'rain', observed='traffic_jam')"
   ]
  },
  {
   "cell_type": "code",
   "execution_count": 81,
   "metadata": {
    "collapsed": false
   },
   "outputs": [
    {
     "data": {
      "text/plain": [
       "False"
      ]
     },
     "execution_count": 81,
     "metadata": {},
     "output_type": "execute_result"
    }
   ],
   "source": [
    "model.is_active_trail('getting_up_late', 'rain')"
   ]
  },
  {
   "cell_type": "code",
   "execution_count": 82,
   "metadata": {
    "collapsed": false
   },
   "outputs": [
    {
     "data": {
      "text/plain": [
       "True"
      ]
     },
     "execution_count": 82,
     "metadata": {},
     "output_type": "execute_result"
    }
   ],
   "source": [
    "model.is_active_trail('getting_up_late', 'rain', observed='late_for_school')"
   ]
  },
  {
   "cell_type": "code",
   "execution_count": 83,
   "metadata": {
    "collapsed": false
   },
   "outputs": [
    {
     "data": {
      "text/plain": [
       "True"
      ]
     },
     "execution_count": 83,
     "metadata": {},
     "output_type": "execute_result"
    }
   ],
   "source": [
    "model.is_active_trail('accident', 'rain', observed='late_for_school')"
   ]
  },
  {
   "cell_type": "markdown",
   "metadata": {},
   "source": [
    "## Relating graphs and distributions\n",
    "### IMAP\n",
    "A graph object G is called an IMAP of a probability distribution D if the set of independency assertions in G, denoted by I(G), is a subset of the set of independencies in D, denoted by I(D).\n",
    "By definition, there are many map describes the subset of I(D). However, the map which is able to best represent the probability distribution is known as the __Perfect Map__"
   ]
  },
  {
   "cell_type": "markdown",
   "metadata": {},
   "source": [
    "### CPD representations\n",
    "So far, we only deal with nominal data that can be represented as a CPD table. However, in practice, there are many cases of real random variable. Here are some of the cases that tabular CPD isn't a good choice.\n",
    "- Deterministic CPDs: The outcome only depends deterministicly on the parent nodes (e.g. logic gates)\n",
    "- Context-specific CPDs: (Tree CPD or Rule CPD) This case happends somewhat similar to the previous cases, where the outcome depends surely on its parent. In the book, they give example about adding another varialbe 'flat_tire' to the Late for School BN. If 'flat_tire' = True, then 'late_for_school' will surely be 'True'. This condition doubles the size of the table unnecessarily.\n",
    "\n",
    "#### Tree CPD\n",
    "Instead of adding Flat Tyre (T) variable to the tree in this manner: T -> L <- J, Tree CPD consider T as parent of J. When T is False, the distribution of L is considered as before, when T is True, the distribution of L is considered with out affect of J (skip J). Fig 1.9 page 29 demonstrated this idea. However, pgmpy developer abandoned TreeCPD implementation because the code is not good and TreeCPD is not used anywhere else."
   ]
  }
 ],
 "metadata": {
  "kernelspec": {
   "display_name": "Python 2",
   "language": "python",
   "name": "python2"
  },
  "language_info": {
   "codemirror_mode": {
    "name": "ipython",
    "version": 2
   },
   "file_extension": ".py",
   "mimetype": "text/x-python",
   "name": "python",
   "nbconvert_exporter": "python",
   "pygments_lexer": "ipython2",
   "version": "2.7.10"
  }
 },
 "nbformat": 4,
 "nbformat_minor": 0
}
